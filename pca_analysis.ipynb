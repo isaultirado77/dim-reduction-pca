{
 "cells": [
  {
   "cell_type": "markdown",
   "id": "38a5a427",
   "metadata": {},
   "source": [
    "# Principal Component Analysis (PCA)"
   ]
  },
  {
   "cell_type": "markdown",
   "id": "c1172447",
   "metadata": {},
   "source": [
    "## Introducción\n",
    "\n",
    "### Objetivos\n",
    "\n",
    "### ¿Qué es PCA y por qué es útil?\n"
   ]
  },
  {
   "cell_type": "markdown",
   "id": "738a2e67",
   "metadata": {},
   "source": [
    "## Fundamentos Teóricos de PCA\n",
    "\n",
    "PCA (Principal Component Analysis) es una técnica utilizada para **reducir la dimensionalidad** de un conjunto de datos mientras se conserva la mayor cantidad posible de su varianza. Esta técnica se basa en una transformación lineal de los datos hacia un nuevo sistema de coordenadas definido por los eigenvectores de la matriz de covarianza. A continuación, se presentan las dos derivaciones principales del método.\n",
    "\n",
    "---\n",
    "\n",
    "### Derivación de PCA\n",
    "\n",
    "#### Proyección para máxima varianza\n",
    "\n",
    "#### Aproximación con error mínimo\n",
    "\n",
    "### Relación entre ambos enfoques\n",
    "---\n",
    "\n",
    "### Resumen del Algoritmo PCA\n",
    "\n",
    "Dado un conjunto de datos $\\boldsymbol{X} \\in \\mathbb{R}^{N \\times D}$ y un número de componentes principales $M$, el algoritmo PCA puede resumirse en los siguientes pasos:\n",
    "\n",
    "1. **Estandarizar los datos** (restar media y escalar por desviación estándar):\n",
    "\n",
    "   $$\n",
    "   \\boldsymbol{X}_{\\text{std}} = \\left(\\boldsymbol{X} - \\bar{\\boldsymbol{X}}\\right) / \\boldsymbol{\\sigma}\n",
    "   $$\n",
    "   \n",
    "   donde  $\\boldsymbol{\\sigma} \\in \\mathbb{R}^D$ es el vector de desviaciones estándar.\n",
    "\n",
    "2. **Calcular la matriz de covarianza**:\n",
    "\n",
    "   $$\n",
    "   \\boldsymbol{S} = \\frac{1}{N} \\boldsymbol{X}_{\\text{std}}^\\top \\boldsymbol{X}_{\\text{std}}\n",
    "   $$\n",
    "\n",
    "3. **Calcular los eigenvalores y eigenvectores de $\\boldsymbol{S}$**.\n",
    "\n",
    "4. **Ordenar los eigenvectores según los eigenvalores de mayor a menor**.\n",
    "\n",
    "5. **Seleccionar los primeros** $M$ **eigenvectores** para formar la matriz de componentes principales $\\boldsymbol{B}$.\n",
    "\n",
    "6. **Proyectar los datos**:\n",
    "\n",
    "   $$\n",
    "   \\boldsymbol{Z} = \\boldsymbol{X}_{\\text{std}} \\boldsymbol{B}\n",
    "   $$\n",
    "\n",
    "7. *(Opcional)* **Reconstrucción** desde el subespacio:\n",
    "\n",
    "   $$\n",
    "   \\hat{\\boldsymbol{X}} = \\boldsymbol{Z} \\boldsymbol{B}^\\top \\cdot \\boldsymbol{\\sigma} + \\bar{\\boldsymbol{X}}\n",
    "   $$"
   ]
  },
  {
   "cell_type": "markdown",
   "id": "9b56b852",
   "metadata": {},
   "source": [
    "## Implementación de PCA"
   ]
  },
  {
   "cell_type": "markdown",
   "id": "17faaf03",
   "metadata": {},
   "source": [
    "## Carga y preparación de datos\n",
    "\n",
    "En esta sección se utilizará el conjunto de datos MNIST 784, que contiene imagenes de dígitos escritos a mano con resolución de 28x28 pixeles, lo que da lugar a 784 características por muestra.\n",
    "La carga de los datos se realizará a través de la función `fetch_openml` del módulo `sklearn.datasets`, que permite descargar el conjunto directamente desde OpenML de manera sencilla y reproducible. "
   ]
  },
  {
   "cell_type": "code",
   "execution_count": 5,
   "id": "36d76374",
   "metadata": {},
   "outputs": [],
   "source": [
    "from sklearn.datasets import fetch_openml"
   ]
  },
  {
   "cell_type": "code",
   "execution_count": 7,
   "id": "d71c1068",
   "metadata": {},
   "outputs": [],
   "source": [
    "images, labels = fetch_openml(\"mnist_784\",  # 28x28 mnist dataset \n",
    "                              version=1,\n",
    "                              return_X_y=True,\n",
    "                              as_frame=False)  # Data is returned as a np array"
   ]
  },
  {
   "cell_type": "code",
   "execution_count": 8,
   "id": "3cb12f8f",
   "metadata": {},
   "outputs": [
    {
     "name": "stdout",
     "output_type": "stream",
     "text": [
      "Total of images:  70000\n",
      "Size of images (28 x 28):  784\n"
     ]
    }
   ],
   "source": [
    "print('Total of images: ', images.shape[0])\n",
    "print('Size of images (28 x 28): ', images.shape[1])"
   ]
  },
  {
   "cell_type": "code",
   "execution_count": 9,
   "id": "a6592369",
   "metadata": {},
   "outputs": [
    {
     "name": "stdout",
     "output_type": "stream",
     "text": [
      "D =  784\n",
      "M =  70000\n"
     ]
    }
   ],
   "source": [
    "print(\"D = \", images.shape[1])\n",
    "print(\"M = \", images.shape[0])"
   ]
  },
  {
   "cell_type": "code",
   "execution_count": 10,
   "id": "534d856e",
   "metadata": {},
   "outputs": [
    {
     "data": {
      "text/plain": [
       "<matplotlib.image.AxesImage at 0x23e48f925a0>"
      ]
     },
     "execution_count": 10,
     "metadata": {},
     "output_type": "execute_result"
    },
    {
     "data": {
      "image/png": "[encoded data removed]",
      "text/plain": [
       "<Figure size 400x400 with 1 Axes>"
      ]
     },
     "metadata": {},
     "output_type": "display_data"
    }
   ],
   "source": [
    "plt.figure(figsize=(4,4))\n",
    "plt.imshow(images[0].reshape(28,28), cmap='gray')"
   ]
  },
  {
   "cell_type": "markdown",
   "id": "4730e808",
   "metadata": {},
   "source": [
    "### "
   ]
  },
  {
   "cell_type": "markdown",
   "id": "1f0fc41f",
   "metadata": {},
   "source": [
    "###  Data preprocessing\n",
    "\n",
    "1. Normalizar los datos (cada pixel debe estar entre 0 y 1). \n",
    "2. Substraer de cada imagen $\\mu$. \n",
    "3. Escalar cada imagen por $1/\\sigma$. "
   ]
  },
  {
   "cell_type": "code",
   "execution_count": 11,
   "id": "d599945e",
   "metadata": {},
   "outputs": [],
   "source": [
    "def normalize_images(X: np.ndarray, NUM_DATAPOINTS: int): \n",
    "    \"\"\"\n",
    "    Normalize the set of images. \n",
    "    \"\"\" \n",
    "    X_n = (X.reshape(-1, 28 * 28)[:NUM_DATAPOINTS]) / 255.0\n",
    "    return X_n"
   ]
  },
  {
   "cell_type": "code",
   "execution_count": 14,
   "id": "d7d06145",
   "metadata": {},
   "outputs": [],
   "source": [
    "def estandarize_data(X: np.ndarray):\n",
    "    \"\"\"\n",
    "    Estandarize the given dataset X. \n",
    "    \"\"\" \n",
    "    mu = X.mean(axis=0)\n",
    "    std = X.std(axis=0)\n",
    "    std_filled = std.copy()\n",
    "    std_filled[std == 0] = 1.0\n",
    "    X_b = ((X - mu) / std_filled)\n",
    "    return X_b, mu, std"
   ]
  },
  {
   "cell_type": "code",
   "execution_count": null,
   "id": "21b85cea",
   "metadata": {},
   "outputs": [],
   "source": [
    "nimages = normalize_images(images, 1000)  # We use a total of 1000 images from the original dataset"
   ]
  },
  {
   "cell_type": "code",
   "execution_count": 15,
   "id": "b8f94f7b",
   "metadata": {},
   "outputs": [],
   "source": [
    "X_b, mu, std = estandarize_data(nimages)"
   ]
  },
  {
   "cell_type": "markdown",
   "id": "9ace5a49",
   "metadata": {},
   "source": [
    "## Evaluación Experimental"
   ]
  },
  {
   "cell_type": "code",
   "execution_count": 17,
   "id": "73c7884d",
   "metadata": {},
   "outputs": [],
   "source": [
    "import timeit"
   ]
  },
  {
   "cell_type": "code",
   "execution_count": 18,
   "id": "b8a04851",
   "metadata": {},
   "outputs": [],
   "source": [
    "def time(f, repeat=10): \n",
    "    \"\"\"Function go get the running time of a external function. \"\"\"\n",
    "    times = []\n",
    "    for _ in range(repeat): \n",
    "        start = timeit.default_timer()\n",
    "        f()\n",
    "        stop = timeit.default_timer()\n",
    "        times.append(stop - start)\n",
    "    return np.mean(times), np.std(times)"
   ]
  },
  {
   "cell_type": "code",
   "execution_count": null,
   "id": "00c9509a",
   "metadata": {},
   "outputs": [],
   "source": []
  },
  {
   "cell_type": "markdown",
   "id": "7d5bed9e",
   "metadata": {},
   "source": [
    "### Comparación de rendimiento"
   ]
  },
  {
   "cell_type": "markdown",
   "id": "446d1803",
   "metadata": {},
   "source": [
    "### Visualización de resultados"
   ]
  },
  {
   "cell_type": "markdown",
   "id": "e1915a72",
   "metadata": {},
   "source": [
    "## Conclusiones"
   ]
  },
  {
   "cell_type": "markdown",
   "id": "fc442f3f",
   "metadata": {},
   "source": [
    "### Referencias"
   ]
  }
 ],
 "metadata": {
  "kernelspec": {
   "display_name": "mlvirt",
   "language": "python",
   "name": "mlvirt"
  },
  "language_info": {
   "codemirror_mode": {
    "name": "ipython",
    "version": 3
   },
   "file_extension": ".py",
   "mimetype": "text/x-python",
   "name": "python",
   "nbconvert_exporter": "python",
   "pygments_lexer": "ipython3",
   "version": "3.12.4"
  }
 },
 "nbformat": 4,
 "nbformat_minor": 5
}
