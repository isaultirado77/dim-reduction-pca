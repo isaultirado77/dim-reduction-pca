{
 "cells": [
  {
   "cell_type": "markdown",
   "id": "6e92d888",
   "metadata": {},
   "source": [
    "# Principal Component Analysis (PCA)\n",
    "\n",
    "En esta notebook se implementa el algoritmo de PCA usando la perspectiva de proyección. Primero se implementa PCA, luego lo aplicamos al conjunto de datos MNIST. "
   ]
  },
  {
   "cell_type": "markdown",
   "id": "47b388fe",
   "metadata": {},
   "source": [
    "## Learning objectives\n",
    "\n",
    "1. Escribir el código que implementa PCA. \n",
    "2. Escribir codigo que implementa PCA para high-dimensional datasets. "
   ]
  },
  {
   "cell_type": "code",
   "execution_count": 1,
   "id": "a7e8263a",
   "metadata": {},
   "outputs": [],
   "source": [
    "import numpy as np\n",
    "import matplotlib.pyplot as plt\n",
    "from sklearn.datasets import fetch_openml  # before fetch_mldata: needed to import the minst dataset"
   ]
  },
  {
   "cell_type": "markdown",
   "id": "caf5bdea",
   "metadata": {},
   "source": [
    "## Data"
   ]
  },
  {
   "cell_type": "code",
   "execution_count": 2,
   "id": "af2fb752",
   "metadata": {},
   "outputs": [],
   "source": [
    "images, labels = fetch_openml(\"mnist_784\", version=1, return_X_y=True, as_frame=False)"
   ]
  },
  {
   "cell_type": "markdown",
   "id": "690b01a7",
   "metadata": {},
   "source": [
    "### EDA"
   ]
  },
  {
   "cell_type": "code",
   "execution_count": 3,
   "id": "1068980c",
   "metadata": {},
   "outputs": [
    {
     "data": {
      "text/plain": [
       "numpy.ndarray"
      ]
     },
     "execution_count": 3,
     "metadata": {},
     "output_type": "execute_result"
    }
   ],
   "source": [
    "type(images)"
   ]
  },
  {
   "cell_type": "code",
   "execution_count": 4,
   "id": "3217918d",
   "metadata": {},
   "outputs": [
    {
     "data": {
      "text/plain": [
       "(70000, 784)"
      ]
     },
     "execution_count": 4,
     "metadata": {},
     "output_type": "execute_result"
    }
   ],
   "source": [
    "images.shape"
   ]
  },
  {
   "cell_type": "code",
   "execution_count": 5,
   "id": "6b169cdf",
   "metadata": {},
   "outputs": [
    {
     "name": "stdout",
     "output_type": "stream",
     "text": [
      "Total of images:  70000\n",
      "Size of images (28 x 28):  784\n"
     ]
    }
   ],
   "source": [
    "print('Total of images: ', images.shape[0])\n",
    "print('Size of images (28 x 28): ', images.shape[1])"
   ]
  },
  {
   "cell_type": "code",
   "execution_count": 6,
   "id": "a73e1b68",
   "metadata": {},
   "outputs": [
    {
     "data": {
      "text/plain": [
       "<matplotlib.image.AxesImage at 0x1d27292ce30>"
      ]
     },
     "execution_count": 6,
     "metadata": {},
     "output_type": "execute_result"
    },
    {
     "data": {
      "image/png": "[encoded data removed]",
      "text/plain": [
       "<Figure size 400x400 with 1 Axes>"
      ]
     },
     "metadata": {},
     "output_type": "display_data"
    }
   ],
   "source": [
    "plt.figure(figsize=(4,4))\n",
    "plt.imshow(images[0].reshape(28,28), cmap='gray')"
   ]
  },
  {
   "cell_type": "code",
   "execution_count": 7,
   "id": "5c7cd636",
   "metadata": {},
   "outputs": [
    {
     "data": {
      "text/plain": [
       "str"
      ]
     },
     "execution_count": 7,
     "metadata": {},
     "output_type": "execute_result"
    }
   ],
   "source": [
    "type(labels[0])"
   ]
  },
  {
   "cell_type": "code",
   "execution_count": 8,
   "id": "19d5f95d",
   "metadata": {},
   "outputs": [
    {
     "name": "stdout",
     "output_type": "stream",
     "text": [
      "The 0 label must be a 5 ->  5 True\n"
     ]
    }
   ],
   "source": [
    "print('The 0 label must be a 5 -> ', labels[0], int(labels[0]) == 5)"
   ]
  },
  {
   "cell_type": "markdown",
   "id": "4d475b4d",
   "metadata": {},
   "source": [
    "###  Data preprocessing\n",
    "\n",
    "1. Normalizar los datos (cada pixel debe estar entre 0 y 1). \n",
    "2. Substraer de cada imagen $\\mu$. \n",
    "3. Escalar cada imagen por $1/\\sigma$. "
   ]
  },
  {
   "cell_type": "code",
   "execution_count": 9,
   "id": "33a7a344",
   "metadata": {},
   "outputs": [
    {
     "data": {
      "text/plain": [
       "array([0.00000000e+00, 0.00000000e+00, 0.00000000e+00, 0.00000000e+00,\n",
       "       0.00000000e+00, 0.00000000e+00, 0.00000000e+00, 0.00000000e+00,\n",
       "       0.00000000e+00, 0.00000000e+00, 0.00000000e+00, 0.00000000e+00,\n",
       "       1.80000000e-03, 6.71428571e-03, 3.08571429e-03, 1.28571429e-04,\n",
       "       0.00000000e+00, 0.00000000e+00, 0.00000000e+00, 0.00000000e+00,\n",
       "       0.00000000e+00, 0.00000000e+00, 0.00000000e+00, 0.00000000e+00,\n",
       "       0.00000000e+00, 0.00000000e+00, 0.00000000e+00, 0.00000000e+00,\n",
       "       0.00000000e+00, 0.00000000e+00, 0.00000000e+00, 0.00000000e+00,\n",
       "       2.28571429e-04, 1.32857143e-03, 1.13285714e-02, 2.30714286e-02,\n",
       "       4.32285714e-02, 6.22428571e-02, 1.17928571e-01, 1.71242857e-01,\n",
       "       1.93414286e-01, 1.90085714e-01, 2.06285714e-01, 1.82742857e-01,\n",
       "       1.70100000e-01, 1.44514286e-01, 9.92428571e-02, 6.82285714e-02,\n",
       "       4.88714286e-02, 1.83142857e-02, 8.64285714e-03, 3.02857143e-03,\n",
       "       0.00000000e+00, 0.00000000e+00, 0.00000000e+00, 0.00000000e+00,\n",
       "       0.00000000e+00, 0.00000000e+00, 9.14285714e-04, 6.00000000e-04,\n",
       "       5.95714286e-03, 1.09428571e-02, 5.63000000e-02, 1.39385714e-01,\n",
       "       2.68228571e-01, 5.20985714e-01, 9.16628571e-01, 1.41252857e+00,\n",
       "       2.00552857e+00, 2.64478571e+00, 3.29485714e+00, 3.65821429e+00,\n",
       "       3.68871429e+00, 3.30264286e+00, 2.70457143e+00, 1.97178571e+00,\n",
       "       1.17471429e+00, 6.07971429e-01, 2.86385714e-01, 9.18285714e-02,\n",
       "       3.02571429e-02, 7.40000000e-03, 0.00000000e+00, 0.00000000e+00,\n",
       "       0.00000000e+00, 0.00000000e+00, 2.77142857e-03, 5.01428571e-03,\n",
       "       1.32142857e-02, 7.02571429e-02, 2.18828571e-01, 5.49157143e-01,\n",
       "       1.17328571e+00, 2.27045714e+00, 3.78197143e+00, 5.64678571e+00,\n",
       "       7.68885714e+00, 9.94882857e+00, 1.19869571e+01, 1.32302857e+01,\n",
       "       1.29729429e+01, 1.15404143e+01, 9.30114286e+00, 6.67485714e+00,\n",
       "       4.08620000e+00, 2.20957143e+00, 1.06014286e+00, 4.15557143e-01,\n",
       "       1.57928571e-01, 3.02428571e-02, 4.72857143e-03, 0.00000000e+00,\n",
       "       0.00000000e+00, 5.42857143e-04, 4.47142857e-03, 1.49857143e-02,\n",
       "       8.39714286e-02, 3.82428571e-01, 1.03394286e+00, 2.43491429e+00,\n",
       "       4.81337143e+00, 8.54428571e+00, 1.36060571e+01, 1.99866429e+01,\n",
       "       2.76048000e+01, 3.57442857e+01, 4.23966857e+01, 4.56407143e+01,\n",
       "       4.44056143e+01, 3.89493857e+01, 3.09315857e+01, 2.26060143e+01,\n",
       "       1.46565571e+01, 8.55550000e+00, 4.52572857e+00, 2.13450000e+00,\n",
       "       8.53200000e-01, 2.06828571e-01, 3.72142857e-02, 1.74285714e-03,\n",
       "       0.00000000e+00, 3.42857143e-04, 9.04285714e-03, 5.93714286e-02,\n",
       "       4.07242857e-01, 1.45882857e+00, 3.59560000e+00, 7.23760000e+00,\n",
       "       1.30355857e+01, 2.14101286e+01, 3.20201714e+01, 4.49681571e+01,\n",
       "       5.96062714e+01, 7.44050429e+01, 8.56439143e+01, 9.09913286e+01,\n",
       "       8.91048857e+01, 8.01986857e+01, 6.57740429e+01, 4.95821857e+01,\n",
       "       3.41949571e+01, 2.13574000e+01, 1.23412429e+01, 6.57651429e+00,\n",
       "       2.97144286e+00, 8.32585714e-01, 1.53900000e-01, 4.02857143e-03,\n",
       "       0.00000000e+00, 1.57142857e-04, 2.41285714e-02, 2.26242857e-01,\n",
       "       1.15320000e+00, 3.30281429e+00, 7.40001429e+00, 1.42323000e+01,\n",
       "       2.42067286e+01, 3.75957857e+01, 5.36680571e+01, 7.16451286e+01,\n",
       "       9.00152000e+01, 1.06811429e+02, 1.19065643e+02, 1.24554086e+02,\n",
       "       1.21849714e+02, 1.12013843e+02, 9.59671571e+01, 7.49559286e+01,\n",
       "       5.38257286e+01, 3.50498857e+01, 2.08035286e+01, 1.12720000e+01,\n",
       "       5.36882857e+00, 1.83650000e+00, 3.77257143e-01, 3.13571429e-02,\n",
       "       6.71428571e-04, 1.91000000e-02, 1.08900000e-01, 6.15100000e-01,\n",
       "       2.36178571e+00, 5.94055714e+00, 1.23529857e+01, 2.24109429e+01,\n",
       "       3.64677714e+01, 5.43526286e+01, 7.44425143e+01, 9.49390143e+01,\n",
       "       1.12270800e+02, 1.25425857e+02, 1.33090214e+02, 1.35574757e+02,\n",
       "       1.33352000e+02, 1.26664214e+02, 1.13501929e+02, 9.36361429e+01,\n",
       "       6.94776571e+01, 4.64880714e+01, 2.77813571e+01, 1.49903000e+01,\n",
       "       6.97447143e+00, 2.57665714e+00, 5.14928571e-01, 3.14000000e-02,\n",
       "       3.48571429e-03, 5.29285714e-02, 3.33014286e-01, 1.30144286e+00,\n",
       "       3.74400000e+00, 8.44680000e+00, 1.66850714e+01, 2.95129714e+01,\n",
       "       4.72817429e+01, 6.89055000e+01, 9.13976429e+01, 1.09353214e+02,\n",
       "       1.19802257e+02, 1.23404543e+02, 1.23072843e+02, 1.22347529e+02,\n",
       "       1.22782386e+02, 1.22405114e+02, 1.16441957e+02, 1.00601371e+02,\n",
       "       7.69929857e+01, 5.24062714e+01, 3.13826286e+01, 1.61331857e+01,\n",
       "       7.15450000e+00, 2.63560000e+00, 5.16842857e-01, 2.99000000e-02,\n",
       "       6.44285714e-03, 9.06000000e-02, 5.09185714e-01, 1.71107143e+00,\n",
       "       4.42017143e+00, 9.72242857e+00, 1.93498143e+01, 3.43919429e+01,\n",
       "       5.51734429e+01, 7.92916286e+01, 1.00287971e+02, 1.11207129e+02,\n",
       "       1.10670043e+02, 1.04153957e+02, 9.89987286e+01, 9.93770286e+01,\n",
       "       1.04435757e+02, 1.11253686e+02, 1.11375943e+02, 9.90871571e+01,\n",
       "       7.66997571e+01, 5.22337571e+01, 3.10946714e+01, 1.52394143e+01,\n",
       "       5.96902857e+00, 1.91832857e+00, 3.76857143e-01, 3.20714286e-02,\n",
       "       9.75714286e-03, 1.01114286e-01, 5.14414286e-01, 1.64634286e+00,\n",
       "       4.21768571e+00, 9.71215714e+00, 2.03145857e+01, 3.71331143e+01,\n",
       "       6.03109714e+01, 8.46400714e+01, 1.01302071e+02, 1.03417343e+02,\n",
       "       9.33731714e+01, 8.25742143e+01, 7.94767571e+01, 8.45277429e+01,\n",
       "       9.39562857e+01, 1.04915014e+02, 1.06661257e+02, 9.41565571e+01,\n",
       "       7.15387143e+01, 4.79056571e+01, 2.82565714e+01, 1.34422143e+01,\n",
       "       4.62672857e+00, 1.14280000e+00, 2.40042857e-01, 2.55142857e-02,\n",
       "       5.62857143e-03, 7.43857143e-02, 4.10557143e-01, 1.24351429e+00,\n",
       "       3.53184286e+00, 9.38780000e+00, 2.09720429e+01, 3.99925714e+01,\n",
       "       6.48644714e+01, 8.83467429e+01, 9.95999429e+01, 9.48271286e+01,\n",
       "       8.11697000e+01, 7.31336000e+01, 7.61444000e+01, 8.56224429e+01,\n",
       "       9.75428429e+01, 1.07913486e+02, 1.05793800e+02, 8.89487429e+01,\n",
       "       6.47412571e+01, 4.22805857e+01, 2.52475571e+01, 1.25769571e+01,\n",
       "       4.06121429e+00, 6.14971429e-01, 1.35200000e-01, 9.88571429e-03,\n",
       "       3.25714286e-03, 4.37714286e-02, 2.38485714e-01, 8.43928571e-01,\n",
       "       2.97595714e+00, 9.49390000e+00, 2.27812857e+01, 4.38893857e+01,\n",
       "       6.97125571e+01, 9.09829571e+01, 9.83084286e+01, 9.08928286e+01,\n",
       "       7.93763143e+01, 7.92655571e+01, 8.94735571e+01, 1.02014571e+02,\n",
       "       1.13366457e+02, 1.17950100e+02, 1.07651000e+02, 8.44303857e+01,\n",
       "       5.84962714e+01, 3.81626286e+01, 2.37678857e+01, 1.27532143e+01,\n",
       "       4.35974286e+00, 4.63514286e-01, 7.38857143e-02, 8.71428571e-03,\n",
       "       4.57142857e-04, 1.82714286e-02, 1.19914286e-01, 5.85657143e-01,\n",
       "       2.83580000e+00, 1.05778286e+01, 2.56120429e+01, 4.78820429e+01,\n",
       "       7.31200286e+01, 9.19728429e+01, 9.69049571e+01, 9.08655571e+01,\n",
       "       8.65168714e+01, 9.68816714e+01, 1.11705271e+02, 1.24448857e+02,\n",
       "       1.30234886e+02, 1.26941571e+02, 1.09038929e+02, 8.11237714e+01,\n",
       "       5.52598571e+01, 3.72170429e+01, 2.40748429e+01, 1.36733857e+01,\n",
       "       5.11337143e+00, 5.89757143e-01, 7.49142857e-02, 9.31428571e-03,\n",
       "       1.61428571e-03, 7.07142857e-03, 5.27142857e-02, 4.48371429e-01,\n",
       "       2.99610000e+00, 1.23062143e+01, 2.84749286e+01, 5.06434286e+01,\n",
       "       7.39576143e+01, 9.04295429e+01, 9.48797143e+01, 9.30421429e+01,\n",
       "       9.75321000e+01, 1.15549857e+02, 1.30611243e+02, 1.40015057e+02,\n",
       "       1.37569329e+02, 1.28334171e+02, 1.07176300e+02, 7.94751143e+01,\n",
       "       5.60710143e+01, 3.90111571e+01, 2.55840571e+01, 1.46776286e+01,\n",
       "       5.71464286e+00, 8.18157143e-01, 8.45571429e-02, 1.90000000e-03,\n",
       "       6.28571429e-04, 3.31428571e-03, 4.50285714e-02, 4.81928571e-01,\n",
       "       3.50718571e+00, 1.43023000e+01, 3.07585000e+01, 5.10997857e+01,\n",
       "       7.14513714e+01, 8.56663571e+01, 9.11999857e+01, 9.40581000e+01,\n",
       "       1.05060429e+02, 1.23527286e+02, 1.36040529e+02, 1.39657671e+02,\n",
       "       1.32385214e+02, 1.21879214e+02, 1.01601029e+02, 7.84246857e+01,\n",
       "       5.83193857e+01, 4.13700714e+01, 2.69959429e+01, 1.49391857e+01,\n",
       "       5.81225714e+00, 1.06701429e+00, 1.36114286e-01, 1.02428571e-02,\n",
       "       5.71428571e-04, 4.07142857e-03, 7.99714286e-02, 6.02600000e-01,\n",
       "       4.40000000e+00, 1.63358571e+01, 3.22045429e+01, 4.97296857e+01,\n",
       "       6.63000286e+01, 7.78500571e+01, 8.36318286e+01, 8.92913714e+01,\n",
       "       1.01169300e+02, 1.16132114e+02, 1.26705129e+02, 1.27801143e+02,\n",
       "       1.21675486e+02, 1.11911200e+02, 9.58482000e+01, 7.77192571e+01,\n",
       "       5.99593286e+01, 4.21979286e+01, 2.67453714e+01, 1.41943286e+01,\n",
       "       5.54860000e+00, 1.25378571e+00, 1.75757143e-01, 1.35428571e-02,\n",
       "       0.00000000e+00, 6.24285714e-03, 1.16628571e-01, 9.33800000e-01,\n",
       "       5.84435714e+00, 1.82819429e+01, 3.31118143e+01, 4.79437143e+01,\n",
       "       6.05770714e+01, 6.95103000e+01, 7.48849286e+01, 8.07448714e+01,\n",
       "       8.96782429e+01, 1.02086143e+02, 1.12659086e+02, 1.15705043e+02,\n",
       "       1.12894343e+02, 1.05562729e+02, 9.34773571e+01, 7.80153429e+01,\n",
       "       5.98552143e+01, 4.10272857e+01, 2.49753857e+01, 1.27491714e+01,\n",
       "       5.05257143e+00, 1.35464286e+00, 1.88414286e-01, 1.10428571e-02,\n",
       "       1.62857143e-03, 6.35714286e-03, 1.84357143e-01, 1.50685714e+00,\n",
       "       7.47375714e+00, 2.01555000e+01, 3.46635143e+01, 4.81302286e+01,\n",
       "       5.85132000e+01, 6.62509429e+01, 7.19400571e+01, 7.67396286e+01,\n",
       "       8.31951143e+01, 9.51383286e+01, 1.06620971e+02, 1.12624500e+02,\n",
       "       1.12198343e+02, 1.06124000e+02, 9.46515143e+01, 7.76198857e+01,\n",
       "       5.72647143e+01, 3.79166571e+01, 2.24532429e+01, 1.12018857e+01,\n",
       "       4.45288571e+00, 1.26541429e+00, 1.53714286e-01, 1.18857143e-02,\n",
       "       2.14285714e-04, 1.40857143e-02, 2.76385714e-01, 2.03415714e+00,\n",
       "       8.55777143e+00, 2.14706429e+01, 3.66253143e+01, 5.09292714e+01,\n",
       "       6.25345000e+01, 7.15241571e+01, 7.82342857e+01, 8.30097429e+01,\n",
       "       9.00593571e+01, 1.01420414e+02, 1.12753900e+02, 1.18396843e+02,\n",
       "       1.16969714e+02, 1.08506329e+02, 9.33687000e+01, 7.27569857e+01,\n",
       "       5.12215000e+01, 3.27052143e+01, 1.86238286e+01, 9.00827143e+00,\n",
       "       3.57512857e+00, 1.05584286e+00, 1.43400000e-01, 6.14285714e-03,\n",
       "       0.00000000e+00, 1.36000000e-02, 3.22671429e-01, 2.24005714e+00,\n",
       "       8.35155714e+00, 2.04351714e+01, 3.67919000e+01, 5.35906571e+01,\n",
       "       6.87975000e+01, 8.12644571e+01, 9.07734714e+01, 9.82562429e+01,\n",
       "       1.06907471e+02, 1.17463200e+02, 1.25511000e+02, 1.26435357e+02,\n",
       "       1.19344114e+02, 1.04867943e+02, 8.46968714e+01, 6.17324714e+01,\n",
       "       4.10615000e+01, 2.48212286e+01, 1.34745286e+01, 6.42164286e+00,\n",
       "       2.65547143e+00, 7.35085714e-01, 1.08471429e-01, 1.44285714e-03,\n",
       "       4.57142857e-04, 1.08857143e-02, 2.80757143e-01, 1.84667143e+00,\n",
       "       6.55040000e+00, 1.67057571e+01, 3.24997286e+01, 5.12911571e+01,\n",
       "       7.01989571e+01, 8.72423714e+01, 1.01230871e+02, 1.12785371e+02,\n",
       "       1.22817729e+02, 1.30800429e+02, 1.32720214e+02, 1.25927271e+02,\n",
       "       1.11035371e+02, 9.02714143e+01, 6.70036714e+01, 4.56081286e+01,\n",
       "       2.83954286e+01, 1.60718000e+01, 8.33725714e+00, 4.02740000e+00,\n",
       "       1.65982857e+00, 4.17800000e-01, 5.81000000e-02, 5.57142857e-04,\n",
       "       4.42857143e-04, 8.42857143e-04, 1.74957143e-01, 1.08547143e+00,\n",
       "       3.89550000e+00, 1.07317000e+01, 2.30908429e+01, 4.02989714e+01,\n",
       "       6.06428143e+01, 8.08794429e+01, 9.90772857e+01, 1.13185686e+02,\n",
       "       1.22578471e+02, 1.25742100e+02, 1.21505157e+02, 1.08130857e+02,\n",
       "       8.85262143e+01, 6.63476143e+01, 4.54774286e+01, 2.86020714e+01,\n",
       "       1.66468571e+01, 8.94297143e+00, 4.56314286e+00, 2.15510000e+00,\n",
       "       8.17885714e-01, 1.90000000e-01, 1.76857143e-02, 1.02857143e-03,\n",
       "       0.00000000e+00, 3.42857143e-04, 5.96428571e-02, 4.10442857e-01,\n",
       "       1.69764286e+00, 4.94587143e+00, 1.18314714e+01, 2.36511143e+01,\n",
       "       3.99285571e+01, 5.85194000e+01, 7.70039000e+01, 9.18521571e+01,\n",
       "       9.98357000e+01, 9.95923286e+01, 9.13644571e+01, 7.63853857e+01,\n",
       "       5.81613143e+01, 4.04515000e+01, 2.55969714e+01, 1.50799571e+01,\n",
       "       8.34447143e+00, 4.28148571e+00, 2.12807143e+00, 9.45657143e-01,\n",
       "       2.95600000e-01, 6.19000000e-02, 8.25714286e-03, 0.00000000e+00,\n",
       "       0.00000000e+00, 0.00000000e+00, 1.35857143e-02, 1.17157143e-01,\n",
       "       5.26828571e-01, 1.56675714e+00, 4.08668571e+00, 8.95498571e+00,\n",
       "       1.66191286e+01, 2.67202429e+01, 3.76542143e+01, 4.65419286e+01,\n",
       "       5.13708286e+01, 5.10167143e+01, 4.58537571e+01, 3.73099714e+01,\n",
       "       2.79176857e+01, 1.93106000e+01, 1.21006429e+01, 7.12611429e+00,\n",
       "       3.88375714e+00, 1.90244286e+00, 8.97542857e-01, 3.70771429e-01,\n",
       "       9.13857143e-02, 1.90714286e-02, 1.65714286e-03, 0.00000000e+00,\n",
       "       0.00000000e+00, 0.00000000e+00, 1.34285714e-03, 1.57571429e-02,\n",
       "       1.28428571e-01, 4.67185714e-01, 1.36767143e+00, 3.11694286e+00,\n",
       "       6.04735714e+00, 9.69648571e+00, 1.36407429e+01, 1.65933714e+01,\n",
       "       1.80925429e+01, 1.79103286e+01, 1.61028714e+01, 1.34028286e+01,\n",
       "       1.06634857e+01, 7.81794286e+00, 5.13157143e+00, 3.08640000e+00,\n",
       "       1.65110000e+00, 7.95000000e-01, 3.55142857e-01, 1.32642857e-01,\n",
       "       3.00571429e-02, 4.02857143e-03, 1.48571429e-03, 0.00000000e+00,\n",
       "       0.00000000e+00, 0.00000000e+00, 0.00000000e+00, 5.42857143e-04,\n",
       "       3.10571429e-02, 1.57800000e-01, 5.28171429e-01, 1.17840000e+00,\n",
       "       2.26452857e+00, 3.44234286e+00, 4.72985714e+00, 5.88050000e+00,\n",
       "       6.42045714e+00, 6.30375714e+00, 5.64740000e+00, 4.50951429e+00,\n",
       "       3.57252857e+00, 2.59792857e+00, 1.65961429e+00, 9.92457143e-01,\n",
       "       5.41814286e-01, 2.45642857e-01, 8.09571429e-02, 2.10000000e-02,\n",
       "       8.28571429e-04, 8.42857143e-04, 0.00000000e+00, 0.00000000e+00,\n",
       "       0.00000000e+00, 0.00000000e+00, 0.00000000e+00, 0.00000000e+00,\n",
       "       2.17142857e-03, 1.33571429e-02, 3.60000000e-02, 8.26714286e-02,\n",
       "       1.22585714e-01, 1.87657143e-01, 3.10871429e-01, 3.94871429e-01,\n",
       "       4.95457143e-01, 5.71071429e-01, 6.69500000e-01, 5.89571429e-01,\n",
       "       4.79228571e-01, 3.33600000e-01, 1.97414286e-01, 9.95428571e-02,\n",
       "       4.66285714e-02, 1.66142857e-02, 1.29571429e-02, 1.71428571e-03,\n",
       "       0.00000000e+00, 0.00000000e+00, 0.00000000e+00, 0.00000000e+00])"
      ]
     },
     "execution_count": 9,
     "metadata": {},
     "output_type": "execute_result"
    }
   ],
   "source": [
    "images.mean(axis=0)"
   ]
  },
  {
   "cell_type": "code",
   "execution_count": 10,
   "id": "fcfd66f8",
   "metadata": {},
   "outputs": [
    {
     "data": {
      "text/plain": [
       "array([0.00000000e+00, 0.00000000e+00, 0.00000000e+00, 0.00000000e+00,\n",
       "       0.00000000e+00, 0.00000000e+00, 0.00000000e+00, 0.00000000e+00,\n",
       "       0.00000000e+00, 0.00000000e+00, 0.00000000e+00, 0.00000000e+00,\n",
       "       4.40061249e-01, 1.26020885e+00, 8.16397430e-01, 3.40165596e-02,\n",
       "       0.00000000e+00, 0.00000000e+00, 0.00000000e+00, 0.00000000e+00,\n",
       "       0.00000000e+00, 0.00000000e+00, 0.00000000e+00, 0.00000000e+00,\n",
       "       0.00000000e+00, 0.00000000e+00, 0.00000000e+00, 0.00000000e+00,\n",
       "       0.00000000e+00, 0.00000000e+00, 0.00000000e+00, 0.00000000e+00,\n",
       "       6.04738837e-02, 2.30430542e-01, 1.32273535e+00, 2.02952401e+00,\n",
       "       2.95101239e+00, 3.24199632e+00, 4.82037862e+00, 5.67715008e+00,\n",
       "       6.05192338e+00, 5.89715515e+00, 6.24349860e+00, 5.92008489e+00,\n",
       "       5.61973006e+00, 5.26610197e+00, 4.32835099e+00, 3.68131215e+00,\n",
       "       3.03281531e+00, 1.79894620e+00, 1.12138799e+00, 7.46739177e-01,\n",
       "       0.00000000e+00, 0.00000000e+00, 0.00000000e+00, 0.00000000e+00,\n",
       "       0.00000000e+00, 0.00000000e+00, 2.41895535e-01, 1.20117490e-01,\n",
       "       7.55007246e-01, 1.01973118e+00, 3.06594456e+00, 4.97614454e+00,\n",
       "       7.12516841e+00, 9.80816655e+00, 1.32396782e+01, 1.63004323e+01,\n",
       "       1.94993996e+01, 2.23923752e+01, 2.52109529e+01, 2.63467563e+01,\n",
       "       2.66591488e+01, 2.53577318e+01, 2.28663322e+01, 1.97392637e+01,\n",
       "       1.51281550e+01, 1.08817146e+01, 7.40605334e+00, 3.91620758e+00,\n",
       "       2.31438333e+00, 1.02070121e+00, 0.00000000e+00, 0.00000000e+00,\n",
       "       0.00000000e+00, 0.00000000e+00, 5.57615617e-01, 6.10564610e-01,\n",
       "       9.80544869e-01, 3.16315501e+00, 6.13801967e+00, 9.86342367e+00,\n",
       "       1.46948047e+01, 2.07843663e+01, 2.70665947e+01, 3.31633123e+01,\n",
       "       3.85311795e+01, 4.37900336e+01, 4.80303697e+01, 5.05477062e+01,\n",
       "       4.97542088e+01, 4.71182736e+01, 4.24750518e+01, 3.61851792e+01,\n",
       "       2.80252192e+01, 2.07490425e+01, 1.38869460e+01, 8.74174129e+00,\n",
       "       5.30646385e+00, 1.96551329e+00, 7.87558931e-01, 0.00000000e+00,\n",
       "       0.00000000e+00, 1.43625474e-01, 6.22111617e-01, 1.01336272e+00,\n",
       "       3.48479230e+00, 7.84184052e+00, 1.31326188e+01, 2.08694669e+01,\n",
       "       2.97321745e+01, 3.98477224e+01, 5.03782051e+01, 6.05879411e+01,\n",
       "       6.99352330e+01, 7.83640334e+01, 8.42263711e+01, 8.67837730e+01,\n",
       "       8.56990574e+01, 8.11486905e+01, 7.35829758e+01, 6.38770038e+01,\n",
       "       5.19778648e+01, 3.97176201e+01, 2.86513664e+01, 1.96195991e+01,\n",
       "       1.21057693e+01, 5.42019443e+00, 2.41178670e+00, 3.26229266e-01,\n",
       "       0.00000000e+00, 9.07108256e-02, 8.04036921e-01, 2.70939965e+00,\n",
       "       7.73999052e+00, 1.60729699e+01, 2.56573555e+01, 3.66726609e+01,\n",
       "       4.92613784e+01, 6.25009852e+01, 7.50704168e+01, 8.63784480e+01,\n",
       "       9.60498485e+01, 1.03363245e+02, 1.07387042e+02, 1.08669585e+02,\n",
       "       1.07983289e+02, 1.05113617e+02, 9.88162921e+01, 8.93367452e+01,\n",
       "       7.65900106e+01, 6.17417630e+01, 4.74684415e+01, 3.47216010e+01,\n",
       "       2.27751211e+01, 1.12119063e+01, 4.66438334e+00, 5.30079023e-01,\n",
       "       0.00000000e+00, 3.04720648e-02, 1.62933048e+00, 6.15412985e+00,\n",
       "       1.43661463e+01, 2.47855615e+01, 3.72799721e+01, 5.16904608e+01,\n",
       "       6.64523399e+01, 8.06909388e+01, 9.26604097e+01, 1.01765327e+02,\n",
       "       1.07865445e+02, 1.11088810e+02, 1.12180816e+02, 1.12358646e+02,\n",
       "       1.12302747e+02, 1.12172826e+02, 1.09815703e+02, 1.03589520e+02,\n",
       "       9.29338249e+01, 7.78385850e+01, 6.16284305e+01, 4.56161984e+01,\n",
       "       3.11803000e+01, 1.77510610e+01, 7.82143702e+00, 2.05258781e+00,\n",
       "       1.77642033e-01, 1.46614881e+00, 4.09288033e+00, 1.02567334e+01,\n",
       "       2.07425459e+01, 3.33083061e+01, 4.80189723e+01, 6.38868015e+01,\n",
       "       7.90923581e+01, 9.24603728e+01, 1.01972497e+02, 1.07575040e+02,\n",
       "       1.10055822e+02, 1.10486228e+02, 1.10456757e+02, 1.10146807e+02,\n",
       "       1.10190148e+02, 1.10683342e+02, 1.10982118e+02, 1.08612068e+02,\n",
       "       1.00910563e+02, 8.76274019e+01, 7.03398439e+01, 5.25246653e+01,\n",
       "       3.55824225e+01, 2.12866674e+01, 9.09338252e+00, 2.05540049e+00,\n",
       "       7.49181930e-01, 2.96955239e+00, 7.71469479e+00, 1.53768872e+01,\n",
       "       2.68191676e+01, 4.01404997e+01, 5.58527603e+01, 7.25254882e+01,\n",
       "       8.82593046e+01, 1.00416507e+02, 1.07512976e+02, 1.10621988e+02,\n",
       "       1.11225419e+02, 1.11458058e+02, 1.11329416e+02, 1.10841389e+02,\n",
       "       1.10739945e+02, 1.11052337e+02, 1.11409713e+02, 1.10212395e+02,\n",
       "       1.04444093e+02, 9.22690362e+01, 7.46382443e+01, 5.44908474e+01,\n",
       "       3.62656469e+01, 2.17786255e+01, 9.24252450e+00, 2.15455139e+00,\n",
       "       9.31236461e-01, 4.03043673e+00, 9.73467447e+00, 1.83817640e+01,\n",
       "       2.94928761e+01, 4.32008394e+01, 6.00976095e+01, 7.78469189e+01,\n",
       "       9.38486217e+01, 1.04798667e+02, 1.10232695e+02, 1.11576474e+02,\n",
       "       1.11314680e+02, 1.10073742e+02, 1.09081910e+02, 1.08709367e+02,\n",
       "       1.09309041e+02, 1.10633858e+02, 1.11266493e+02, 1.10013447e+02,\n",
       "       1.04437462e+02, 9.25137897e+01, 7.44656737e+01, 5.29082158e+01,\n",
       "       3.28845111e+01, 1.82151240e+01, 7.74507079e+00, 2.15273580e+00,\n",
       "       1.38533305e+00, 4.41938960e+00, 9.80827162e+00, 1.79525577e+01,\n",
       "       2.88398363e+01, 4.31174408e+01, 6.13911817e+01, 8.02637564e+01,\n",
       "       9.66850367e+01, 1.06752531e+02, 1.10638062e+02, 1.10781989e+02,\n",
       "       1.07867681e+02, 1.03999084e+02, 1.03029966e+02, 1.05154968e+02,\n",
       "       1.07410334e+02, 1.09876360e+02, 1.10534930e+02, 1.09090034e+02,\n",
       "       1.02326711e+02, 8.95947633e+01, 7.15517251e+01, 4.97747291e+01,\n",
       "       2.88555486e+01, 1.40957362e+01, 6.27007355e+00, 1.94198879e+00,\n",
       "       7.91741140e-01, 3.63255061e+00, 8.84450112e+00, 1.54130163e+01,\n",
       "       2.60645443e+01, 4.20281924e+01, 6.21456465e+01, 8.26110582e+01,\n",
       "       9.91982200e+01, 1.08108508e+02, 1.10365827e+02, 1.08805466e+02,\n",
       "       1.03914801e+02, 1.00037687e+02, 1.02788139e+02, 1.06586209e+02,\n",
       "       1.08060113e+02, 1.10012759e+02, 1.10443714e+02, 1.07858711e+02,\n",
       "       9.89403162e+01, 8.49668236e+01, 6.84847091e+01, 4.88120690e+01,\n",
       "       2.69354134e+01, 9.96534618e+00, 4.68889946e+00, 1.03169181e+00,\n",
       "       6.63252348e-01, 2.73393459e+00, 6.64388303e+00, 1.25161860e+01,\n",
       "       2.36074015e+01, 4.21647956e+01, 6.46252447e+01, 8.60928361e+01,\n",
       "       1.01830968e+02, 1.09210034e+02, 1.10316063e+02, 1.08151262e+02,\n",
       "       1.03848111e+02, 1.03053968e+02, 1.08963620e+02, 1.10950056e+02,\n",
       "       1.09886313e+02, 1.11191081e+02, 1.11248475e+02, 1.06305766e+02,\n",
       "       9.49779180e+01, 8.13274172e+01, 6.69345939e+01, 4.99169167e+01,\n",
       "       2.82238185e+01, 8.59673760e+00, 3.48652070e+00, 9.48658333e-01,\n",
       "       1.20947767e-01, 1.65404107e+00, 4.70703340e+00, 1.04312459e+01,\n",
       "       2.29972870e+01, 4.44396846e+01, 6.85051538e+01, 8.94718601e+01,\n",
       "       1.03705385e+02, 1.09610586e+02, 1.10131115e+02, 1.08311785e+02,\n",
       "       1.06321622e+02, 1.08767792e+02, 1.13885483e+02, 1.11711454e+02,\n",
       "       1.09941283e+02, 1.12196093e+02, 1.11599734e+02, 1.04688673e+02,\n",
       "       9.29936132e+01, 8.07168297e+01, 6.75944428e+01, 5.18724474e+01,\n",
       "       3.10352303e+01, 9.98623628e+00, 3.42217381e+00, 1.35874904e+00,\n",
       "       4.27096804e-01, 9.56149268e-01, 2.91748787e+00, 8.94296484e+00,\n",
       "       2.34002289e+01, 4.79188143e+01, 7.21670121e+01, 9.18713344e+01,\n",
       "       1.04338526e+02, 1.09406754e+02, 1.09568109e+02, 1.08361783e+02,\n",
       "       1.08139490e+02, 1.11629941e+02, 1.13758705e+02, 1.09569177e+02,\n",
       "       1.09849809e+02, 1.12511377e+02, 1.11175542e+02, 1.04229492e+02,\n",
       "       9.40633596e+01, 8.25920354e+01, 6.94412534e+01, 5.36810128e+01,\n",
       "       3.29357767e+01, 1.18515619e+01, 3.55982846e+00, 2.93811098e-01,\n",
       "       1.42326202e-01, 8.54494262e-01, 2.45212465e+00, 9.23588122e+00,\n",
       "       2.51953829e+01, 5.18466078e+01, 7.49622483e+01, 9.23754626e+01,\n",
       "       1.03293971e+02, 1.08138855e+02, 1.08512204e+02, 1.08292595e+02,\n",
       "       1.09620750e+02, 1.12665740e+02, 1.12609140e+02, 1.09304230e+02,\n",
       "       1.11384593e+02, 1.12720569e+02, 1.09882746e+02, 1.04175997e+02,\n",
       "       9.56568867e+01, 8.48495602e+01, 7.08853389e+01, 5.36541784e+01,\n",
       "       3.31604456e+01, 1.38651612e+01, 4.79119297e+00, 1.12967540e+00,\n",
       "       1.51184709e-01, 5.75621895e-01, 3.62679772e+00, 1.00534465e+01,\n",
       "       2.82421155e+01, 5.53389483e+01, 7.67761979e+01, 9.13916576e+01,\n",
       "       1.00659462e+02, 1.05089532e+02, 1.06210479e+02, 1.07240430e+02,\n",
       "       1.10046975e+02, 1.12962462e+02, 1.12691301e+02, 1.11223606e+02,\n",
       "       1.12246563e+02, 1.11369749e+02, 1.08572467e+02, 1.04221863e+02,\n",
       "       9.71033203e+01, 8.53719484e+01, 7.03748802e+01, 5.19770204e+01,\n",
       "       3.21127355e+01, 1.50602971e+01, 5.36203408e+00, 1.36947937e+00,\n",
       "       0.00000000e+00, 7.54929248e-01, 4.55534826e+00, 1.27839873e+01,\n",
       "       3.31295762e+01, 5.87412347e+01, 7.76412823e+01, 8.98938631e+01,\n",
       "       9.74685281e+01, 1.01591184e+02, 1.03340427e+02, 1.05441770e+02,\n",
       "       1.08599451e+02, 1.10999442e+02, 1.11968425e+02, 1.11723307e+02,\n",
       "       1.11146694e+02, 1.09944553e+02, 1.08452507e+02, 1.04794990e+02,\n",
       "       9.71025500e+01, 8.43298996e+01, 6.78319049e+01, 4.90217966e+01,\n",
       "       3.03058968e+01, 1.55529166e+01, 5.47469504e+00, 9.80630001e-01,\n",
       "       2.97844982e-01, 9.09538117e-01, 5.49736284e+00, 1.66161534e+01,\n",
       "       3.78938702e+01, 6.18864232e+01, 7.92516425e+01, 9.01513175e+01,\n",
       "       9.64092947e+01, 1.00261462e+02, 1.02903782e+02, 1.04923542e+02,\n",
       "       1.06537525e+02, 1.09232663e+02, 1.11160002e+02, 1.11022981e+02,\n",
       "       1.10336965e+02, 1.10293972e+02, 1.09324357e+02, 1.05138841e+02,\n",
       "       9.56960488e+01, 8.15991220e+01, 6.44825260e+01, 4.58305096e+01,\n",
       "       2.84905460e+01, 1.50161198e+01, 4.94430413e+00, 1.21705799e+00,\n",
       "       5.66942660e-02, 1.38869986e+00, 7.08342710e+00, 1.96590580e+01,\n",
       "       4.08056436e+01, 6.39673872e+01, 8.13136090e+01, 9.23894303e+01,\n",
       "       9.88448697e+01, 1.02953508e+02, 1.05646929e+02, 1.07345547e+02,\n",
       "       1.08647921e+02, 1.10362298e+02, 1.11544353e+02, 1.11140352e+02,\n",
       "       1.10665000e+02, 1.11301441e+02, 1.09354827e+02, 1.03017702e+02,\n",
       "       9.17576711e+01, 7.64970171e+01, 5.89891666e+01, 4.11031205e+01,\n",
       "       2.55763755e+01, 1.36301005e+01, 4.95090547e+00, 7.91881652e-01,\n",
       "       0.00000000e+00, 1.37342665e+00, 7.53633752e+00, 2.05750994e+01,\n",
       "       4.03401196e+01, 6.22365891e+01, 8.12387530e+01, 9.43671448e+01,\n",
       "       1.02349875e+02, 1.06778299e+02, 1.09253256e+02, 1.10532837e+02,\n",
       "       1.11298526e+02, 1.11519619e+02, 1.11494297e+02, 1.11251061e+02,\n",
       "       1.11291518e+02, 1.10790295e+02, 1.06788198e+02, 9.78847178e+01,\n",
       "       8.39530651e+01, 6.73818734e+01, 5.02381717e+01, 3.46084594e+01,\n",
       "       2.20509799e+01, 1.11655986e+01, 4.16250848e+00, 2.69943229e-01,\n",
       "       1.20947767e-01, 1.17468357e+00, 6.93185945e+00, 1.85310871e+01,\n",
       "       3.50758749e+01, 5.60677481e+01, 7.64397718e+01, 9.26602694e+01,\n",
       "       1.03197685e+02, 1.08903813e+02, 1.11267794e+02, 1.11534046e+02,\n",
       "       1.11124695e+02, 1.10358275e+02, 1.10592928e+02, 1.10993900e+02,\n",
       "       1.10729582e+02, 1.07762369e+02, 9.99817249e+01, 8.72445517e+01,\n",
       "       7.13523903e+01, 5.45481029e+01, 3.95646574e+01, 2.73954552e+01,\n",
       "       1.73170914e+01, 8.41560203e+00, 2.94884168e+00, 1.47405092e-01,\n",
       "       1.17168150e-01, 1.51608060e-01, 5.31645733e+00, 1.38074150e+01,\n",
       "       2.65129560e+01, 4.43901685e+01, 6.45618518e+01, 8.32514763e+01,\n",
       "       9.77966606e+01, 1.07073286e+02, 1.11624834e+02, 1.12930538e+02,\n",
       "       1.12518303e+02, 1.12150565e+02, 1.12267671e+02, 1.11409778e+02,\n",
       "       1.07488462e+02, 9.94127507e+01, 8.66765472e+01, 7.12822645e+01,\n",
       "       5.52681469e+01, 4.08121289e+01, 2.90445640e+01, 1.99171646e+01,\n",
       "       1.18089061e+01, 5.19860009e+00, 1.46741807e+00, 2.72132477e-01,\n",
       "       0.00000000e+00, 9.07108256e-02, 2.73517822e+00, 7.99054492e+00,\n",
       "       1.70977783e+01, 2.95561548e+01, 4.58183873e+01, 6.43584757e+01,\n",
       "       8.18471848e+01, 9.54669269e+01, 1.04399402e+02, 1.09052911e+02,\n",
       "       1.10549578e+02, 1.10245184e+02, 1.08045374e+02, 1.03184176e+02,\n",
       "       9.43715817e+01, 8.19465881e+01, 6.71854008e+01, 5.24412601e+01,\n",
       "       3.94835667e+01, 2.83098326e+01, 1.98132167e+01, 1.30154992e+01,\n",
       "       6.88135311e+00, 3.04486168e+00, 8.55897419e-01, 0.00000000e+00,\n",
       "       0.00000000e+00, 0.00000000e+00, 1.41744277e+00, 4.17099542e+00,\n",
       "       9.27096513e+00, 1.66661959e+01, 2.69194306e+01, 4.04584374e+01,\n",
       "       5.50880416e+01, 6.92833817e+01, 8.06067526e+01, 8.78039927e+01,\n",
       "       9.09144964e+01, 9.05551075e+01, 8.65356125e+01, 7.90617876e+01,\n",
       "       6.98567131e+01, 5.90811634e+01, 4.72875387e+01, 3.68584522e+01,\n",
       "       2.70741741e+01, 1.90895105e+01, 1.28914796e+01, 8.05629390e+00,\n",
       "       3.70948669e+00, 1.80489628e+00, 3.76597697e-01, 0.00000000e+00,\n",
       "       0.00000000e+00, 0.00000000e+00, 2.17645642e-01, 1.50495192e+00,\n",
       "       4.62908110e+00, 9.16336388e+00, 1.59831734e+01, 2.45375877e+01,\n",
       "       3.46413910e+01, 4.37016161e+01, 5.15901125e+01, 5.65077868e+01,\n",
       "       5.88137740e+01, 5.84299427e+01, 5.51842408e+01, 5.03279251e+01,\n",
       "       4.52305212e+01, 3.87565533e+01, 3.15612041e+01, 2.44720778e+01,\n",
       "       1.77850129e+01, 1.23818567e+01, 7.86809575e+00, 4.72736926e+00,\n",
       "       1.91644298e+00, 6.36068998e-01, 3.93080244e-01, 0.00000000e+00,\n",
       "       0.00000000e+00, 0.00000000e+00, 0.00000000e+00, 1.43625474e-01,\n",
       "       2.17590205e+00, 5.09680704e+00, 9.97429013e+00, 1.50102033e+01,\n",
       "       2.11091377e+01, 2.59415385e+01, 3.04147759e+01, 3.38319045e+01,\n",
       "       3.52016646e+01, 3.47870436e+01, 3.29169182e+01, 2.92444011e+01,\n",
       "       2.62740806e+01, 2.22385106e+01, 1.78406288e+01, 1.37443786e+01,\n",
       "       1.02997085e+01, 6.69976031e+00, 3.63102940e+00, 1.63868035e+00,\n",
       "       1.36379300e-01, 2.22997446e-01, 0.00000000e+00, 0.00000000e+00,\n",
       "       0.00000000e+00, 0.00000000e+00, 0.00000000e+00, 0.00000000e+00,\n",
       "       4.05069129e-01, 1.59351593e+00, 2.40909372e+00, 3.87235731e+00,\n",
       "       4.70901429e+00, 6.02239978e+00, 7.42163645e+00, 8.66079373e+00,\n",
       "       9.60521180e+00, 1.02746042e+01, 1.12366282e+01, 1.05019157e+01,\n",
       "       9.44886826e+00, 7.92166088e+00, 5.99116365e+00, 4.25627333e+00,\n",
       "       2.78371233e+00, 1.56181066e+00, 1.55378454e+00, 3.20887036e-01,\n",
       "       0.00000000e+00, 0.00000000e+00, 0.00000000e+00, 0.00000000e+00])"
      ]
     },
     "execution_count": 10,
     "metadata": {},
     "output_type": "execute_result"
    }
   ],
   "source": [
    "images.std(axis=0)"
   ]
  },
  {
   "cell_type": "code",
   "execution_count": 11,
   "id": "bfc3247b",
   "metadata": {},
   "outputs": [
    {
     "data": {
      "text/plain": [
       "array([  0,   0,   0,   0,   0,   0,   0,   0,   0,   0,   0,   0, 116,\n",
       "       254, 216,   9,   0,   0,   0,   0,   0,   0,   0,   0,   0,   0,\n",
       "         0,   0,   0,   0,   0,   0,  16,  47, 236, 254, 255, 254, 255,\n",
       "       255, 255, 255, 255, 255, 255, 255, 255, 255, 244, 255, 184, 197,\n",
       "         0,   0,   0,   0,   0,   0,  64,  29, 134, 192, 254, 255, 255,\n",
       "       255, 255, 255, 255, 255, 255, 255, 255, 255, 255, 255, 255, 255,\n",
       "       255, 255, 255, 165,   0,   0,   0,   0, 141, 101, 139, 255, 255,\n",
       "       255, 255, 255, 255, 255, 255, 255, 255, 255, 255, 255, 255, 255,\n",
       "       255, 255, 255, 255, 255, 234, 163,   0,   0,  38, 144, 114, 254,\n",
       "       255, 255, 255, 255, 255, 255, 255, 255, 255, 255, 255, 255, 255,\n",
       "       255, 255, 255, 255, 255, 255, 255, 255, 246,  63,   0,  24,  95,\n",
       "       255, 255, 255, 255, 255, 255, 255, 255, 255, 255, 255, 255, 255,\n",
       "       255, 255, 255, 255, 255, 255, 255, 255, 255, 255, 255,  93,   0,\n",
       "         7, 210, 255, 255, 255, 255, 255, 255, 255, 255, 255, 255, 255,\n",
       "       255, 255, 255, 255, 255, 255, 255, 255, 255, 255, 255, 255, 254,\n",
       "       253,  47, 191, 255, 255, 255, 255, 255, 255, 255, 255, 255, 255,\n",
       "       255, 255, 255, 255, 255, 255, 255, 255, 255, 255, 255, 255, 255,\n",
       "       255, 255, 253, 191, 255, 255, 255, 255, 255, 255, 255, 255, 255,\n",
       "       255, 255, 255, 255, 255, 255, 255, 255, 255, 255, 255, 255, 255,\n",
       "       255, 255, 255, 254, 221, 184, 254, 255, 255, 255, 255, 255, 255,\n",
       "       255, 255, 255, 255, 255, 255, 255, 255, 255, 255, 255, 255, 255,\n",
       "       255, 255, 255, 255, 255, 255, 220, 226, 255, 255, 255, 255, 255,\n",
       "       255, 255, 255, 255, 255, 255, 255, 255, 255, 255, 255, 255, 255,\n",
       "       255, 255, 255, 255, 255, 255, 255, 254, 243, 150, 255, 255, 255,\n",
       "       255, 255, 255, 255, 255, 255, 255, 255, 255, 255, 255, 255, 255,\n",
       "       255, 255, 255, 255, 255, 255, 255, 255, 255, 253, 156, 163, 255,\n",
       "       255, 255, 255, 255, 255, 255, 255, 255, 255, 255, 255, 255, 255,\n",
       "       255, 255, 255, 255, 255, 255, 255, 255, 255, 255, 255, 252, 152,\n",
       "        32, 253, 255, 255, 255, 255, 255, 255, 255, 255, 255, 255, 255,\n",
       "       255, 255, 255, 255, 255, 255, 255, 255, 255, 255, 255, 255, 255,\n",
       "       252, 247, 113, 188, 254, 255, 255, 255, 255, 255, 255, 255, 255,\n",
       "       255, 255, 255, 255, 255, 255, 255, 255, 255, 255, 255, 255, 255,\n",
       "       255, 255, 254,  52,  37, 226, 254, 255, 255, 255, 255, 255, 255,\n",
       "       255, 255, 255, 255, 255, 255, 255, 255, 255, 255, 255, 255, 255,\n",
       "       255, 255, 255, 255, 255, 190,  40, 107, 254, 255, 255, 255, 255,\n",
       "       255, 255, 255, 255, 255, 255, 255, 255, 255, 255, 255, 255, 255,\n",
       "       255, 255, 255, 255, 255, 255, 254, 223,   0, 133, 254, 255, 255,\n",
       "       255, 255, 255, 255, 255, 255, 255, 255, 255, 255, 255, 255, 255,\n",
       "       255, 255, 255, 255, 255, 255, 255, 255, 253, 121,  60, 197, 255,\n",
       "       255, 255, 255, 255, 255, 255, 255, 255, 255, 255, 255, 255, 255,\n",
       "       255, 255, 255, 255, 255, 255, 255, 255, 255, 255, 255, 153,  15,\n",
       "       255, 255, 255, 255, 255, 255, 255, 255, 255, 255, 255, 255, 255,\n",
       "       255, 255, 255, 255, 255, 255, 255, 255, 255, 255, 255, 255, 253,\n",
       "       128,   0, 185, 255, 255, 255, 255, 255, 255, 255, 255, 255, 255,\n",
       "       255, 255, 255, 255, 255, 255, 255, 255, 255, 255, 255, 255, 255,\n",
       "       255, 255,  51,  32, 185, 255, 255, 255, 255, 255, 255, 255, 255,\n",
       "       255, 255, 255, 255, 255, 255, 255, 255, 255, 255, 255, 255, 255,\n",
       "       255, 255, 255, 252,  39,  31,  38, 255, 255, 255, 255, 255, 255,\n",
       "       255, 255, 255, 255, 255, 255, 255, 255, 255, 255, 255, 255, 255,\n",
       "       255, 255, 255, 255, 254, 225,  72,   0,  24, 217, 255, 255, 255,\n",
       "       255, 255, 255, 255, 255, 255, 255, 255, 255, 255, 255, 255, 255,\n",
       "       255, 255, 255, 255, 255, 255, 254, 150,   0,   0,   0, 253, 253,\n",
       "       255, 255, 255, 255, 255, 255, 255, 255, 255, 255, 255, 255, 255,\n",
       "       255, 255, 255, 255, 255, 255, 255, 254, 252,  98,   0,   0,   0,\n",
       "        42, 254, 255, 255, 255, 255, 255, 255, 255, 255, 255, 255, 255,\n",
       "       255, 255, 255, 255, 255, 255, 255, 255, 255, 253, 127, 104,   0,\n",
       "         0,   0,   0,  38, 255, 255, 255, 255, 255, 255, 255, 255, 255,\n",
       "       255, 255, 255, 255, 255, 255, 255, 255, 255, 255, 253,  28,  59,\n",
       "         0,   0,   0,   0,   0,   0,  94, 252, 245, 254, 254, 255, 255,\n",
       "       255, 255, 255, 255, 255, 255, 255, 254, 254, 253, 253, 254,  62,\n",
       "         0,   0,   0,   0])"
      ]
     },
     "execution_count": 11,
     "metadata": {},
     "output_type": "execute_result"
    }
   ],
   "source": [
    "images.max(axis=0)"
   ]
  },
  {
   "cell_type": "code",
   "execution_count": null,
   "id": "f757c3f2",
   "metadata": {},
   "outputs": [],
   "source": [
    "def normalize_images(X: np.ndarray): \n",
    "    \"\"\"\n",
    "    Normalize the set of images. \n",
    "    \"\"\" \n",
    "    minv = X.min(axis=0)\n",
    "    maxv = X.max(axis=0)\n",
    "    rangev = maxv - minv\n",
    "    rangev[rangev == 0] = 1\n",
    "    normalized = (X - minv) / rangev\n",
    "    return normalized"
   ]
  },
  {
   "cell_type": "code",
   "execution_count": 13,
   "id": "27b56b37",
   "metadata": {},
   "outputs": [],
   "source": [
    "nimages = normalize_images(images)"
   ]
  },
  {
   "cell_type": "code",
   "execution_count": 14,
   "id": "a8b0ff55",
   "metadata": {},
   "outputs": [
    {
     "data": {
      "text/plain": [
       "np.float64(0.0)"
      ]
     },
     "execution_count": 14,
     "metadata": {},
     "output_type": "execute_result"
    }
   ],
   "source": [
    "nimages[0].min()"
   ]
  },
  {
   "cell_type": "code",
   "execution_count": 15,
   "id": "2be01aec",
   "metadata": {},
   "outputs": [
    {
     "data": {
      "text/plain": [
       "np.float64(1.0)"
      ]
     },
     "execution_count": 15,
     "metadata": {},
     "output_type": "execute_result"
    }
   ],
   "source": [
    "nimages[0].max()"
   ]
  },
  {
   "cell_type": "code",
   "execution_count": 16,
   "id": "70d50b54",
   "metadata": {},
   "outputs": [
    {
     "data": {
      "text/plain": [
       "<matplotlib.image.AxesImage at 0x1d2734703e0>"
      ]
     },
     "execution_count": 16,
     "metadata": {},
     "output_type": "execute_result"
    },
    {
     "data": {
      "image/png": "[encoded data removed]",
      "text/plain": [
       "<Figure size 400x400 with 1 Axes>"
      ]
     },
     "metadata": {},
     "output_type": "display_data"
    }
   ],
   "source": [
    "plt.figure(figsize=(4,4))\n",
    "plt.imshow(nimages[1].reshape(28,28), cmap='gray')"
   ]
  },
  {
   "cell_type": "code",
   "execution_count": null,
   "id": "c0a7d81c",
   "metadata": {},
   "outputs": [],
   "source": [
    "def normalize_data(X: np.ndarray):\n",
    "    \"\"\"\n",
    "    Normalize the given dataset X. \n",
    "    \"\"\" \n",
    "    mu = X.mean(axis=0)\n",
    "    std = X.std(axis=0)\n",
    "    std_filled = std.copy()\n",
    "    std_filled[std == 0] = 1.0\n",
    "    X_b = ((X - mu) / std_filled)\n",
    "    return X_b, mu, std"
   ]
  },
  {
   "cell_type": "code",
   "execution_count": 18,
   "id": "865c63ce",
   "metadata": {},
   "outputs": [
    {
     "data": {
      "text/plain": [
       "np.float64(0.5490786554621849)"
      ]
     },
     "execution_count": 18,
     "metadata": {},
     "output_type": "execute_result"
    }
   ],
   "source": [
    "nimages.mean(axis=0).max()"
   ]
  },
  {
   "cell_type": "code",
   "execution_count": 19,
   "id": "53d1bbac",
   "metadata": {},
   "outputs": [
    {
     "data": {
      "text/plain": [
       "np.float64(0.44660973867773096)"
      ]
     },
     "execution_count": 19,
     "metadata": {},
     "output_type": "execute_result"
    }
   ],
   "source": [
    "nimages.std(axis=0).max()"
   ]
  },
  {
   "cell_type": "code",
   "execution_count": 20,
   "id": "78ce159e",
   "metadata": {},
   "outputs": [],
   "source": [
    "X_b, mu, std = normalize_data(nimages)"
   ]
  },
  {
   "cell_type": "code",
   "execution_count": 22,
   "id": "718c3e79",
   "metadata": {},
   "outputs": [
    {
     "name": "stdout",
     "output_type": "stream",
     "text": [
      "264.5732412773446\n",
      "-1.2778690230072927\n"
     ]
    }
   ],
   "source": [
    "print(X_b.max())\n",
    "print(X_b.min())"
   ]
  },
  {
   "cell_type": "markdown",
   "id": "925e8bd1",
   "metadata": {},
   "source": [
    "## PCA \n",
    "\n",
    "En las siguientes celdas se implementa PCA. \n",
    "Asumimos que ejecutamos PCA en un dataset $\\textbf{X}$ para $\\textbf{M}$ componentes principales. Una vez normalizados los datos, lo siguiente es encontrar los eigenvectores (principal components) y los eigenvalores para la matriz de covarianza $\\textbf{S}$. Estos eigenvalores deben ordenarse de mayor a menor con sus respectivos eigenvectores. \n",
    "\n",
    "Después de esto, podemos computar la proyección y la reconstruccion de los datos originales en el espacio generado por los $n$ eigenvalores más significativos. "
   ]
  },
  {
   "cell_type": "code",
   "execution_count": 23,
   "id": "c3973ba9",
   "metadata": {},
   "outputs": [],
   "source": [
    "def eig(S: np.ndarray): \n",
    "    pass\n"
   ]
  },
  {
   "cell_type": "code",
   "execution_count": 24,
   "id": "c2dc2170",
   "metadata": {},
   "outputs": [],
   "source": [
    "def projection_matrix(B: np.ndarray): \n",
    "    pass"
   ]
  },
  {
   "cell_type": "code",
   "execution_count": 25,
   "id": "46bde4b9",
   "metadata": {},
   "outputs": [],
   "source": [
    "def PCA(X: np.ndarray, ncomponents: int): \n",
    "    pass"
   ]
  },
  {
   "cell_type": "code",
   "execution_count": null,
   "id": "e29b368d",
   "metadata": {},
   "outputs": [],
   "source": []
  }
 ],
 "metadata": {
  "kernelspec": {
   "display_name": "mlvirt",
   "language": "python",
   "name": "mlvirt"
  },
  "language_info": {
   "codemirror_mode": {
    "name": "ipython",
    "version": 3
   },
   "file_extension": ".py",
   "mimetype": "text/x-python",
   "name": "python",
   "nbconvert_exporter": "python",
   "pygments_lexer": "ipython3",
   "version": "3.12.4"
  }
 },
 "nbformat": 4,
 "nbformat_minor": 5
}
