{
 "cells": [
  {
   "cell_type": "markdown",
   "id": "6e92d888",
   "metadata": {},
   "source": [
    "# Principal Component Analysis (PCA)\n",
    "\n",
    "En esta notebook se implementa el algoritmo de PCA usando la perspectiva de proyección. Primero se implementa PCA, luego lo aplicamos al conjunto de datos MNIST. "
   ]
  },
  {
   "cell_type": "code",
   "execution_count": 1,
   "id": "a7e8263a",
   "metadata": {},
   "outputs": [],
   "source": [
    "import numpy as np\n",
    "import matplotlib.pyplot as plt\n",
    "from sklearn.datasets import fetch_openml  # before fetch_mldata: needed to import the minst dataset"
   ]
  },
  {
   "cell_type": "markdown",
   "id": "caf5bdea",
   "metadata": {},
   "source": [
    "## Data"
   ]
  },
  {
   "cell_type": "code",
   "execution_count": 2,
   "id": "af2fb752",
   "metadata": {},
   "outputs": [],
   "source": [
    "images, labels = fetch_openml(\"mnist_784\",  # 28x28 mnist dataset \n",
    "                              version=1,\n",
    "                              return_X_y=True,\n",
    "                              as_frame=False)  # Data is returned as a np array"
   ]
  },
  {
   "cell_type": "markdown",
   "id": "690b01a7",
   "metadata": {},
   "source": [
    "### EDA"
   ]
  },
  {
   "cell_type": "code",
   "execution_count": 3,
   "id": "1068980c",
   "metadata": {},
   "outputs": [
    {
     "data": {
      "text/plain": [
       "numpy.ndarray"
      ]
     },
     "execution_count": 3,
     "metadata": {},
     "output_type": "execute_result"
    }
   ],
   "source": [
    "type(images)"
   ]
  },
  {
   "cell_type": "code",
   "execution_count": 4,
   "id": "3217918d",
   "metadata": {},
   "outputs": [
    {
     "data": {
      "text/plain": [
       "(70000, 784)"
      ]
     },
     "execution_count": 4,
     "metadata": {},
     "output_type": "execute_result"
    }
   ],
   "source": [
    "images.shape"
   ]
  },
  {
   "cell_type": "code",
   "execution_count": 5,
   "id": "6b169cdf",
   "metadata": {},
   "outputs": [
    {
     "name": "stdout",
     "output_type": "stream",
     "text": [
      "Total of images:  70000\n",
      "Size of images (28 x 28):  784\n"
     ]
    }
   ],
   "source": [
    "print('Total of images: ', images.shape[0])\n",
    "print('Size of images (28 x 28): ', images.shape[1])"
   ]
  },
  {
   "cell_type": "code",
   "execution_count": 6,
   "id": "2d85d75b",
   "metadata": {},
   "outputs": [
    {
     "name": "stdout",
     "output_type": "stream",
     "text": [
      "D =  784\n",
      "M =  70000\n"
     ]
    }
   ],
   "source": [
    "print(\"D = \", images.shape[1])\n",
    "print(\"M = \", images.shape[0])"
   ]
  },
  {
   "cell_type": "code",
   "execution_count": 7,
   "id": "a73e1b68",
   "metadata": {},
   "outputs": [
    {
     "data": {
      "text/plain": [
       "<matplotlib.image.AxesImage at 0x1fa2ed3a8d0>"
      ]
     },
     "execution_count": 7,
     "metadata": {},
     "output_type": "execute_result"
    },
    {
     "data": {
      "image/png": "[encoded data removed]",
      "text/plain": [
       "<Figure size 400x400 with 1 Axes>"
      ]
     },
     "metadata": {},
     "output_type": "display_data"
    }
   ],
   "source": [
    "plt.figure(figsize=(4,4))\n",
    "plt.imshow(images[0].reshape(28,28), cmap='gray')"
   ]
  },
  {
   "cell_type": "code",
   "execution_count": 8,
   "id": "f8f7e909",
   "metadata": {},
   "outputs": [
    {
     "data": {
      "text/plain": [
       "numpy.ndarray"
      ]
     },
     "execution_count": 8,
     "metadata": {},
     "output_type": "execute_result"
    }
   ],
   "source": [
    "type(labels)"
   ]
  },
  {
   "cell_type": "code",
   "execution_count": 9,
   "id": "5c7cd636",
   "metadata": {},
   "outputs": [
    {
     "data": {
      "text/plain": [
       "str"
      ]
     },
     "execution_count": 9,
     "metadata": {},
     "output_type": "execute_result"
    }
   ],
   "source": [
    "type(labels[0])"
   ]
  },
  {
   "cell_type": "code",
   "execution_count": 10,
   "id": "19d5f95d",
   "metadata": {},
   "outputs": [
    {
     "name": "stdout",
     "output_type": "stream",
     "text": [
      "The 0 label must be a 5 ->  5 True\n"
     ]
    }
   ],
   "source": [
    "print('The 0 label must be a 5 -> ', labels[0], int(labels[0]) == 5)"
   ]
  },
  {
   "cell_type": "markdown",
   "id": "4d475b4d",
   "metadata": {},
   "source": [
    "###  Data preprocessing\n",
    "\n",
    "1. Normalizar los datos (cada pixel debe estar entre 0 y 1). \n",
    "2. Substraer de cada imagen $\\mu$. \n",
    "3. Escalar cada imagen por $1/\\sigma$. "
   ]
  },
  {
   "cell_type": "code",
   "execution_count": 11,
   "id": "33a7a344",
   "metadata": {},
   "outputs": [],
   "source": [
    "# images.mean(axis=0)"
   ]
  },
  {
   "cell_type": "code",
   "execution_count": 12,
   "id": "fcfd66f8",
   "metadata": {},
   "outputs": [],
   "source": [
    "# images.std(axis=0)"
   ]
  },
  {
   "cell_type": "code",
   "execution_count": 13,
   "id": "bfc3247b",
   "metadata": {},
   "outputs": [],
   "source": [
    "# images.max(axis=0)"
   ]
  },
  {
   "cell_type": "code",
   "execution_count": 14,
   "id": "f757c3f2",
   "metadata": {},
   "outputs": [],
   "source": [
    "def normalize_images(X: np.ndarray, NUM_DATAPOINTS: int): \n",
    "    \"\"\"\n",
    "    Normalize the set of images. \n",
    "    \"\"\" \n",
    "    X_n = (X.reshape(-1, 28 * 28)[:NUM_DATAPOINTS]) / 255.0\n",
    "    return X_n"
   ]
  },
  {
   "cell_type": "code",
   "execution_count": 15,
   "id": "27b56b37",
   "metadata": {},
   "outputs": [],
   "source": [
    "nimages = normalize_images(images, 1000)  # We use a total of 1000 images from the original dataset"
   ]
  },
  {
   "cell_type": "code",
   "execution_count": 16,
   "id": "21212cfb",
   "metadata": {},
   "outputs": [
    {
     "data": {
      "text/plain": [
       "(1000, 784)"
      ]
     },
     "execution_count": 16,
     "metadata": {},
     "output_type": "execute_result"
    }
   ],
   "source": [
    "nimages.shape"
   ]
  },
  {
   "cell_type": "code",
   "execution_count": 17,
   "id": "a8b0ff55",
   "metadata": {},
   "outputs": [
    {
     "data": {
      "text/plain": [
       "np.float64(0.0)"
      ]
     },
     "execution_count": 17,
     "metadata": {},
     "output_type": "execute_result"
    }
   ],
   "source": [
    "nimages[0].min()"
   ]
  },
  {
   "cell_type": "code",
   "execution_count": 18,
   "id": "2be01aec",
   "metadata": {},
   "outputs": [
    {
     "data": {
      "text/plain": [
       "np.float64(1.0)"
      ]
     },
     "execution_count": 18,
     "metadata": {},
     "output_type": "execute_result"
    }
   ],
   "source": [
    "nimages[0].max()"
   ]
  },
  {
   "cell_type": "code",
   "execution_count": 19,
   "id": "70d50b54",
   "metadata": {},
   "outputs": [
    {
     "data": {
      "text/plain": [
       "<matplotlib.image.AxesImage at 0x1fa50086b40>"
      ]
     },
     "execution_count": 19,
     "metadata": {},
     "output_type": "execute_result"
    },
    {
     "data": {
      "image/png": "[encoded data removed]",
      "text/plain": [
       "<Figure size 400x400 with 1 Axes>"
      ]
     },
     "metadata": {},
     "output_type": "display_data"
    }
   ],
   "source": [
    "plt.figure(figsize=(4,4))\n",
    "plt.imshow(nimages[0].reshape(28, 28), cmap='gray')"
   ]
  },
  {
   "cell_type": "code",
   "execution_count": 20,
   "id": "c0a7d81c",
   "metadata": {},
   "outputs": [],
   "source": [
    "def estandarize_data(X: np.ndarray):\n",
    "    \"\"\"\n",
    "    Estandarize the given dataset X. \n",
    "    \"\"\" \n",
    "    mu = X.mean(axis=0)\n",
    "    std = X.std(axis=0)\n",
    "    std_filled = std.copy()\n",
    "    std_filled[std == 0] = 1.0\n",
    "    X_b = ((X - mu) / std_filled)\n",
    "    return X_b, mu, std"
   ]
  },
  {
   "cell_type": "code",
   "execution_count": 21,
   "id": "865c63ce",
   "metadata": {},
   "outputs": [
    {
     "data": {
      "text/plain": [
       "np.float64(0.544407843137255)"
      ]
     },
     "execution_count": 21,
     "metadata": {},
     "output_type": "execute_result"
    }
   ],
   "source": [
    "nimages.mean(axis=0).max()"
   ]
  },
  {
   "cell_type": "code",
   "execution_count": 22,
   "id": "53d1bbac",
   "metadata": {},
   "outputs": [
    {
     "data": {
      "text/plain": [
       "np.float64(0.44936752666984614)"
      ]
     },
     "execution_count": 22,
     "metadata": {},
     "output_type": "execute_result"
    }
   ],
   "source": [
    "nimages.std(axis=0).max()"
   ]
  },
  {
   "cell_type": "code",
   "execution_count": 23,
   "id": "78ce159e",
   "metadata": {},
   "outputs": [],
   "source": [
    "X_b, mu, std = estandarize_data(nimages)"
   ]
  },
  {
   "cell_type": "code",
   "execution_count": 24,
   "id": "718c3e79",
   "metadata": {},
   "outputs": [
    {
     "name": "stdout",
     "output_type": "stream",
     "text": [
      "31.606961258558233\n",
      "-1.2791422420460479\n"
     ]
    }
   ],
   "source": [
    "print(X_b.max())\n",
    "print(X_b.min())"
   ]
  },
  {
   "cell_type": "markdown",
   "id": "925e8bd1",
   "metadata": {},
   "source": [
    "## PCA \n",
    "\n",
    "En las siguientes celdas se implementa PCA. \n",
    "Asumimos que ejecutamos PCA en un dataset $\\textbf{X}$ para $\\textbf{M}$ componentes principales. Una vez normalizados los datos, lo siguiente es encontrar los eigenvectores (principal components) y los eigenvalores para la matriz de covarianza $\\textbf{S}$. Estos eigenvalores deben ordenarse de mayor a menor con sus respectivos eigenvectores. \n",
    "\n",
    "Después de esto, podemos computar la proyección y la reconstruccion de los datos originales en el espacio generado por los $n$ eigenvalores más significativos. "
   ]
  },
  {
   "cell_type": "code",
   "execution_count": 25,
   "id": "8937bc4e",
   "metadata": {},
   "outputs": [],
   "source": [
    "arr = np.array([[1, 2], [2, 5]])"
   ]
  },
  {
   "cell_type": "code",
   "execution_count": 26,
   "id": "14e3b803",
   "metadata": {},
   "outputs": [],
   "source": [
    "eigvals, eigvecs = np.linalg.eig(arr)"
   ]
  },
  {
   "cell_type": "code",
   "execution_count": 27,
   "id": "6163125d",
   "metadata": {},
   "outputs": [
    {
     "name": "stdout",
     "output_type": "stream",
     "text": [
      "descending indexes:  [1 2 0]\n",
      "ascending [0 2 1]\n"
     ]
    }
   ],
   "source": [
    "a = np.array([3, 1, 2])\n",
    "print(\"descending indexes: \", np.argsort(a))\n",
    "print(\"ascending\", np.argsort(a)[::-1])"
   ]
  },
  {
   "cell_type": "code",
   "execution_count": 28,
   "id": "7cc1fae0",
   "metadata": {},
   "outputs": [
    {
     "name": "stdout",
     "output_type": "stream",
     "text": [
      "[1 0]\n"
     ]
    }
   ],
   "source": [
    "k = np.argsort(eigvals)[::-1]\n",
    "print(k)"
   ]
  },
  {
   "cell_type": "code",
   "execution_count": 29,
   "id": "82c5e8d9",
   "metadata": {},
   "outputs": [
    {
     "name": "stdout",
     "output_type": "stream",
     "text": [
      "Unsorted\n",
      "[0.17157288 5.82842712]\n",
      "[[-0.92387953 -0.38268343]\n",
      " [ 0.38268343 -0.92387953]]\n"
     ]
    }
   ],
   "source": [
    "print(\"Unsorted\")\n",
    "print(eigvals)\n",
    "print(eigvecs)"
   ]
  },
  {
   "cell_type": "code",
   "execution_count": 30,
   "id": "81feff94",
   "metadata": {},
   "outputs": [
    {
     "name": "stdout",
     "output_type": "stream",
     "text": [
      "Sorted\n",
      "[5.82842712 0.17157288]\n",
      "[[-0.38268343 -0.92387953]\n",
      " [-0.92387953  0.38268343]]\n"
     ]
    }
   ],
   "source": [
    "print(\"Sorted\")\n",
    "seigvals = eigvals[k]\n",
    "seigvecs = eigvecs[:, k]\n",
    "print(seigvals)\n",
    "print(seigvecs)"
   ]
  },
  {
   "cell_type": "code",
   "execution_count": 31,
   "id": "c3973ba9",
   "metadata": {},
   "outputs": [],
   "source": [
    "def eig(S: np.ndarray): \n",
    "    \"\"\"\n",
    "    Compute the eigenvalues and eigenvectors\n",
    "    for the covariance matrix S. \n",
    "    \"\"\"\n",
    "    eigvals, eigvecs = np.linalg.eig(S)\n",
    "    idx = np.argsort(eigvals)[::-1]\n",
    "    return eigvals[idx], eigvecs[:, idx]\n"
   ]
  },
  {
   "cell_type": "code",
   "execution_count": 32,
   "id": "c2dc2170",
   "metadata": {},
   "outputs": [],
   "source": [
    "# https://en.wikipedia.org/wiki/Projection_matrix\n",
    "def projection_matrix(B: np.ndarray): \n",
    "    \"\"\"\n",
    "    Compute the projection matrix onto the space spanned by B.\n",
    "    \"\"\"\n",
    "    return (B @ np.linalg.inv(B.T @ B)) @ B.T"
   ]
  },
  {
   "cell_type": "code",
   "execution_count": 33,
   "id": "87d8a2b8",
   "metadata": {},
   "outputs": [],
   "source": [
    "# Testing the projection_matrix function\n",
    "A = np.array([[1, -1], [2, 3], [3, 4]])  # Basis of the plane -x+7y + 5z = 0\n",
    "P = projection_matrix(A)\n",
    "x = np.array([[0, 0, 5]]).reshape(3, -1)"
   ]
  },
  {
   "cell_type": "code",
   "execution_count": 34,
   "id": "26c0a39e",
   "metadata": {},
   "outputs": [
    {
     "name": "stdout",
     "output_type": "stream",
     "text": [
      "Proj_P(X): \n",
      " [[0.33333333]\n",
      " [2.33333333]\n",
      " [3.33333333]]\n"
     ]
    }
   ],
   "source": [
    "print(\"Proj_P(X): \\n\", P @ x)"
   ]
  },
  {
   "cell_type": "code",
   "execution_count": 35,
   "id": "46bde4b9",
   "metadata": {},
   "outputs": [],
   "source": [
    "def PCA(X: np.ndarray, ncomponents: int):\n",
    "    \"\"\"\n",
    "    Args:\n",
    "        X: ndarray of size (N, D), where D is the dimension of the data,\n",
    "           and N is the number of datapoints\n",
    "        num_components: the number of principal components to use.\n",
    "    Returns:\n",
    "        X_reconstruct: ndarray of the reconstruction\n",
    "        of X from the first `num_components` principal components.\n",
    "    \"\"\"\n",
    "    # Compute the covariance matrix S\n",
    "    S = 1.0 / len(X) * (X.T @ X)\n",
    "\n",
    "    # Find the eigenvalues and correspondig eigenvectors for S\n",
    "    eig_vals, eig_vecs = eig(S)\n",
    "\n",
    "    # Take the n principal components\n",
    "    eig_vals, eig_vecs = eig_vals[:ncomponents], eig_vecs[:, :ncomponents]\n",
    "\n",
    "    B = np.real(eig_vecs)  # Principal component matrix\n",
    "\n",
    "    # Reconstruction of the original data\n",
    "    reconst = projection_matrix(B) @ X.T\n",
    "    return reconst.T"
   ]
  },
  {
   "cell_type": "markdown",
   "id": "3f6e9ea4",
   "metadata": {},
   "source": [
    "### PCA for high-dimensional datasets $\\left(N\\ll D\\right)$\n",
    "\n",
    "En ocasiones, la dimensión del dataset es mucho más grande que el total de muestras $\\left(N\\ll D\\right)$, por lo que conviene actualizar el algortimo anterior. Podemos implementar PCA de manera eficientesiguiendo los siguienes pasos: \n",
    "\n",
    "1. Calcular la matriz $\\boldsymbol X\\boldsymbol X^T$ ($\\boldsymbol X\\in \\mathbb{R}^{D\\times N}$, con $N \\ll D$)\n",
    "2. Calcular los eigenvalores $ \\lambda_i$ y los eigenvectores (principal components) $v_i$ de $\\boldsymbol X\\boldsymbol X^T$\n",
    "3. Calcular los eigengectores para la matriz de covarianza original como $\\boldsymbol X^T\\boldsymbol V$. Elegir los vectores propios asociados con los M mayores valores propios para que sean la base del subespacio principal $\\boldsymbol U$.\n",
    "4. Calcular la proyección ortogonal de los datos sobre el subespacio generado por las columnas de $\\boldsymbol U$.\n"
   ]
  },
  {
   "cell_type": "code",
   "execution_count": 36,
   "id": "09663833",
   "metadata": {},
   "outputs": [],
   "source": [
    "def PCA_high_dim(X: np.ndarray, ncomponents: int): \n",
    "    \"\"\"\n",
    "    Compute PCA for small sample size but high-dimensional features. \n",
    "    Args:\n",
    "        X: ndarray of size (N, D), where D is the dimension of the sample,\n",
    "           and N is the number of samples\n",
    "        num_components: the number of principal components to use.\n",
    "    Returns:\n",
    "        X_reconstruct: (N, D) ndarray. the reconstruction\n",
    "        of X from the first `num_components` pricipal components\n",
    "    \"\"\"\n",
    "    N, D = X.shape\n",
    "    M = np.dot(X, X.T) / N\n",
    "    eig_vals, eig_vecs = eig(M)\n",
    "    eig_vals, eig_vecs = eig_vals[:ncomponents], eig_vecs[:, :ncomponents]\n",
    "    U = (X.T @ (eig_vecs))\n",
    "    reconst = np.zeros((N, D))\n",
    "    reconst = ((U @ np.linalg.inv(U.T @ U) @ U.T) @ X.T).T\n",
    "    return reconst"
   ]
  },
  {
   "cell_type": "code",
   "execution_count": 37,
   "id": "bdc9293b",
   "metadata": {},
   "outputs": [
    {
     "name": "stdout",
     "output_type": "stream",
     "text": [
      "None\n"
     ]
    }
   ],
   "source": [
    "print(np.testing.assert_almost_equal(PCA(X_b, 2), PCA_high_dim(X_b, 2)))"
   ]
  },
  {
   "cell_type": "markdown",
   "id": "5d9f76f3",
   "metadata": {},
   "source": [
    "## Evalueate results"
   ]
  },
  {
   "cell_type": "code",
   "execution_count": 39,
   "id": "6c1f2e96",
   "metadata": {},
   "outputs": [],
   "source": [
    "def mse(predict, actual):\n",
    "    \"\"\"Helper function for computing the mean squared error (MSE)\"\"\"\n",
    "    return np.square(predict - actual).sum(axis=1).mean()"
   ]
  },
  {
   "cell_type": "markdown",
   "id": "ad4a2cdd",
   "metadata": {},
   "source": [
    "### Simple PCA"
   ]
  },
  {
   "cell_type": "code",
   "execution_count": 40,
   "id": "6c71eb81",
   "metadata": {},
   "outputs": [],
   "source": [
    "loss = []\n",
    "reconstructions = []\n",
    "\n",
    "# Iterate over different number of principal components, and compute MSE\n",
    "for num_component in range(1, 100): \n",
    "    reconst = PCA(X_b, num_component)\n",
    "    error = mse(X_b, reconst)\n",
    "    reconstructions.append(reconst)\n",
    "    loss.append((num_component, error))\n",
    "\n",
    "reconstructions = np.asarray(reconstructions)\n",
    "reconstructions = reconstructions * std + mu  # 'de-normalize' the reconstructed image\n",
    "loss = np.asarray(loss)"
   ]
  },
  {
   "cell_type": "code",
   "execution_count": 41,
   "id": "4d63b7b9",
   "metadata": {},
   "outputs": [
    {
     "data": {
      "image/png": "[encoded data removed]",
      "text/plain": [
       "<Figure size 640x480 with 1 Axes>"
      ]
     },
     "metadata": {},
     "output_type": "display_data"
    }
   ],
   "source": [
    "plt.Figure(figsize=(10, 10))\n",
    "plt.plot(loss[:, 0], loss[:, 1], label='MSE')\n",
    "plt.axhline(100, linestyle='--', color='r', label='# components')\n",
    "plt.xticks(np.arange(1, 100, 5))\n",
    "plt.xlabel('num_components')\n",
    "plt.ylabel('MSE')\n",
    "plt.title('MSE vs number of principal components')\n",
    "plt.grid()"
   ]
  },
  {
   "cell_type": "markdown",
   "id": "090b29ae",
   "metadata": {},
   "source": [
    "### Simple PCA vs High Dim PCA"
   ]
  },
  {
   "cell_type": "code",
   "execution_count": 45,
   "id": "b2ff8f3e",
   "metadata": {},
   "outputs": [],
   "source": [
    "import timeit"
   ]
  },
  {
   "cell_type": "code",
   "execution_count": 50,
   "id": "f3578687",
   "metadata": {},
   "outputs": [],
   "source": [
    "def time(f, repeat=10): \n",
    "    \"\"\"Function go get the running time of a external function. \"\"\"\n",
    "    times = []\n",
    "    for _ in range(repeat): \n",
    "        start = timeit.default_timer()\n",
    "        f()\n",
    "        stop = timeit.default_timer()\n",
    "        times.append(stop - start)\n",
    "    return np.mean(times), np.std(times)"
   ]
  },
  {
   "cell_type": "code",
   "execution_count": 56,
   "id": "964af1eb",
   "metadata": {},
   "outputs": [],
   "source": [
    "times0 = []\n",
    "times1 = []\n",
    "\n",
    "# iterate over datasets of different size\n",
    "for datasetsize in np.arange(4, 784, step=100):\n",
    "    XX = X_b[:datasetsize]\n",
    "    npc = 2\n",
    "    mu, sigma = time(lambda : PCA(XX, npc), repeat=10)\n",
    "    times0.append((datasetsize, mu, sigma))\n",
    "    \n",
    "    mu, sigma = time(lambda : PCA_high_dim(XX, npc), repeat=10)\n",
    "    times1.append((datasetsize, mu, sigma))\n",
    "    \n",
    "times0 = np.asarray(times0)\n",
    "times1 = np.asarray(times1)"
   ]
  },
  {
   "cell_type": "code",
   "execution_count": 57,
   "id": "140159f9",
   "metadata": {},
   "outputs": [
    {
     "data": {
      "image/png": "[encoded data removed]",
      "text/plain": [
       "<Figure size 640x480 with 1 Axes>"
      ]
     },
     "metadata": {},
     "output_type": "display_data"
    }
   ],
   "source": [
    "fig, ax = plt.subplots()\n",
    "ax.set(xlabel='number of datapoints', ylabel='run time')\n",
    "ax.errorbar(times0[:, 0], times0[:, 1], times0[:, 2], label=\"PCA\", linewidth=2)\n",
    "ax.errorbar(times1[:, 0], times1[:, 1], times1[:, 2], label=\"PCA_high_dim\", linewidth=2)\n",
    "ax.legend();"
   ]
  },
  {
   "cell_type": "code",
   "execution_count": null,
   "id": "edcb3375",
   "metadata": {},
   "outputs": [
    {
     "name": "stdout",
     "output_type": "stream",
     "text": [
      "CPU times: total: 46.9 ms\n",
      "Wall time: 34.2 ms\n",
      "CPU times: total: 141 ms\n",
      "Wall time: 36.1 ms\n"
     ]
    }
   ],
   "source": [
    "# Alternativa usando %time de jupyter\n",
    "%time PCA(Xbar, 2)\n",
    "%time PCA_high_dim(Xbar, 2)\n",
    "pass"
   ]
  },
  {
   "cell_type": "markdown",
   "id": "cc3be154",
   "metadata": {},
   "source": [
    "### Interactive functions for plotting the reconstruction of the digits"
   ]
  },
  {
   "cell_type": "code",
   "execution_count": 42,
   "id": "6020e095",
   "metadata": {},
   "outputs": [],
   "source": [
    "from ipywidgets import interact"
   ]
  },
  {
   "cell_type": "code",
   "execution_count": 43,
   "id": "38328f37",
   "metadata": {},
   "outputs": [
    {
     "data": {
      "application/vnd.jupyter.widget-view+json": {
       "model_id": "d57733564e5c4b0e8cf6fc10c06e94dc",
       "version_major": 2,
       "version_minor": 0
      },
      "text/plain": [
       "interactive(children=(IntSlider(value=499, description='image_idx', max=999), Output()), _dom_classes=('widget…"
      ]
     },
     "metadata": {},
     "output_type": "display_data"
    }
   ],
   "source": [
    "@interact(image_idx=(0, 999))\n",
    "def show_num_components_reconst(image_idx):\n",
    "    fig, ax = plt.subplots(figsize=(50, 50))\n",
    "    actual = X_b[image_idx]\n",
    "    # concatenate the actual and reconstructed images as large image before plotting it\n",
    "    x = np.concatenate([actual[np.newaxis, :], reconstructions[:, image_idx]])\n",
    "    ax.imshow(np.hstack(x.reshape(-1, 28, 28)[np.arange(0, 109, 11)]),\n",
    "              cmap='gray');\n",
    "    ax.axvline(28, color='orange', linewidth=2)"
   ]
  },
  {
   "cell_type": "code",
   "execution_count": 44,
   "id": "a423a06e",
   "metadata": {},
   "outputs": [
    {
     "data": {
      "application/vnd.jupyter.widget-view+json": {
       "model_id": "6c3f021aa9164484ab7f7240079132a5",
       "version_major": 2,
       "version_minor": 0
      },
      "text/plain": [
       "interactive(children=(IntSlider(value=1, description='i', max=10), Output()), _dom_classes=('widget-interact',…"
      ]
     },
     "metadata": {},
     "output_type": "display_data"
    }
   ],
   "source": [
    "@interact(i=(0, 10))\n",
    "def show_pca_digits(i=1):\n",
    "    \"\"\"Show the i th digit and its reconstruction\"\"\"\n",
    "    plt.figure(figsize=(4,4))\n",
    "    actual_sample = X_b[i].reshape(28,28)\n",
    "    reconst_sample = (reconst[i, :] * std + mu).reshape(28, 28)\n",
    "    plt.imshow(np.hstack([actual_sample, reconst_sample]), cmap='gray')\n",
    "    plt.axis('off')\n",
    "    plt.show()"
   ]
  },
  {
   "cell_type": "markdown",
   "id": "435f2f48",
   "metadata": {},
   "source": [
    "Entre más componentes principales usamos para la reconstrucción, menor es el MSE. "
   ]
  },
  {
   "cell_type": "code",
   "execution_count": null,
   "id": "0a3e3e38",
   "metadata": {},
   "outputs": [],
   "source": []
  }
 ],
 "metadata": {
  "kernelspec": {
   "display_name": "mlvirt",
   "language": "python",
   "name": "mlvirt"
  },
  "language_info": {
   "codemirror_mode": {
    "name": "ipython",
    "version": 3
   },
   "file_extension": ".py",
   "mimetype": "text/x-python",
   "name": "python",
   "nbconvert_exporter": "python",
   "pygments_lexer": "ipython3",
   "version": "3.12.4"
  }
 },
 "nbformat": 4,
 "nbformat_minor": 5
}
